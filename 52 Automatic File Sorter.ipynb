{
 "cells": [
  {
   "cell_type": "code",
   "execution_count": 35,
   "id": "217fb6ce",
   "metadata": {},
   "outputs": [],
   "source": [
    "import os, shutil"
   ]
  },
  {
   "cell_type": "code",
   "execution_count": 36,
   "id": "53cf4504",
   "metadata": {},
   "outputs": [],
   "source": [
    "path = r\"C:/Users/ASUS/Downloads/Data Analyst/Python/Python File sorter/\""
   ]
  },
  {
   "cell_type": "code",
   "execution_count": 37,
   "id": "da9bbc7a",
   "metadata": {},
   "outputs": [],
   "source": [
    "Files=os.listdir(path)"
   ]
  },
  {
   "cell_type": "code",
   "execution_count": 38,
   "id": "5d104f57",
   "metadata": {},
   "outputs": [],
   "source": [
    "Folder=[\"PDF\",\"Words\",\"Image\"]\n",
    "\n",
    "for loop in range(0,3):\n",
    "    if not os.path.exists(path + Folder[loop]):\n",
    "        os.makedirs(path + Folder[loop])\n",
    "      \n",
    "\n",
    "for fil in Files:\n",
    "    if \".jpg\" in fil and not os.path.exists(path + \"Image/\" + fil):\n",
    "        shutil.move(path + fil, path + \"Image/\" + fil)\n",
    "    elif \".docx\" in fil and not os.path.exists(path + \"Words/\" + fil):\n",
    "        shutil.move(path + fil, path + \"Words/\" + fil)\n",
    "    elif \".pdf\" in fil and not os.path.exists(path + \"PDF/\" + fil):\n",
    "        shutil.move(path + fil, path + \"PDF/\" + fil)    "
   ]
  },
  {
   "cell_type": "code",
   "execution_count": 34,
   "id": "ff580dde",
   "metadata": {},
   "outputs": [],
   "source": [
    "for fil in Files:\n",
    "    if \".jpg\" in fil and not os.path.exists(path + \"Image/\" + fil):\n",
    "        shutil.move(path + fil, path + \"Image/\" + fil)\n",
    "    elif \".docx\" in fil and not os.path.exists(path + \"Words/\" + fil):\n",
    "        shutil.move(path + fil, path + \"Words/\" + fil)\n",
    "    elif \".pdf\" in fil and not os.path.exists(path + \"PDF/\" + fil):\n",
    "        shutil.move(path + fil, path + \"PDF/\" + fil)\n"
   ]
  },
  {
   "cell_type": "code",
   "execution_count": null,
   "id": "4e7b193b",
   "metadata": {},
   "outputs": [],
   "source": []
  }
 ],
 "metadata": {
  "kernelspec": {
   "display_name": "Python 3 (ipykernel)",
   "language": "python",
   "name": "python3"
  },
  "language_info": {
   "codemirror_mode": {
    "name": "ipython",
    "version": 3
   },
   "file_extension": ".py",
   "mimetype": "text/x-python",
   "name": "python",
   "nbconvert_exporter": "python",
   "pygments_lexer": "ipython3",
   "version": "3.11.7"
  }
 },
 "nbformat": 4,
 "nbformat_minor": 5
}
