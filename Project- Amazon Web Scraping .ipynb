{
 "cells": [
  {
   "cell_type": "code",
   "execution_count": 1,
   "id": "3e2537dc",
   "metadata": {},
   "outputs": [],
   "source": [
    "from bs4 import BeautifulSoup  #for pulling data out of HTML and XML files.\n",
    "import requests           #for request HTTP \n",
    "import time\n",
    "import datetime\n",
    "import smtplib         #for sending email to yourself"
   ]
  },
  {
   "cell_type": "code",
   "execution_count": 30,
   "id": "9490d647",
   "metadata": {},
   "outputs": [],
   "source": [
    "#url = the site we need data from\n",
    "#headers = The response headers can give you useful information, \n",
    "           #such as the content type of the response payload and a time limit on how long to cache the response\n",
    "           #it send data to browser we are using that's why we use User agent in Header\n",
    "#page= usinging request command to know site responding well and request data\n",
    "#soup1 = using BS command to pull data from site\n",
    "url = 'https://www.amazon.in/Apple-MacBook-16-inch-16%E2%80%91core-40%E2%80%91core/dp/B0CM5SZ7CP/ref=sr_1_2_sspa?crid=1DBAF8MSUKOAF&dib=eyJ2IjoiMSJ9.56MtnFAWzi2JuWv0CsiCCBR35WPudK9Wh2LPKu6VrDKCwt6Zav-i9nE1hwBcmEmKZoiMlADV5clC6QvogMdjTXWioJz2T-LArfS2t3-DjP8ZxNrQhvBAGv2P9qA2f-bh9I3bPap75p4wxNWtlBy1qe84Sm0T7F0khLZntkJbpAAB2XjwYbz2i-cbaWyipYnrA1m6tIHz2c6SYi6tw4zqKzx9M6OCUqJfBwvTtOidTVE.oyFGAI7pu5NpTpI8VOamiqWqUVUZY3Cia3uXHnfQYmk&dib_tag=se&keywords=laptop&qid=1715867905&sprefix=laptop%2Caps%2C224&sr=8-2-spons&sp_csd=d2lkZ2V0TmFtZT1zcF9hdGY&psc=1'\n",
    "\n",
    "headers={\"User-Agent\": \"Mozilla/5.0 (Windows NT 10.0; Win64; x64) AppleWebKit/537.36 (KHTML, like Gecko) Chrome/124.0.0.0 Safari/537.36\"}\n",
    "\n",
    "page=requests.get(url, headers=headers)  \n",
    "\n",
    "soup1=BeautifulSoup(page.content, 'html.parser')\n",
    "\n",
    "title=soup1.find(id='productTitle').get_text()\n",
    "\n",
    "price=soup1.find(id='corePriceDisplay_desktop_feature_div').get_text().strip()\n",
    "    "
   ]
  },
  {
   "cell_type": "code",
   "execution_count": 1,
   "id": "a71c9d66",
   "metadata": {},
   "outputs": [],
   "source": [
    "#print(soup1.prettify())"
   ]
  },
  {
   "cell_type": "code",
   "execution_count": 42,
   "id": "56bb0bc1",
   "metadata": {},
   "outputs": [],
   "source": [
    "price=price[1:9]\n",
    "title=title.strip()"
   ]
  },
  {
   "cell_type": "code",
   "execution_count": 31,
   "id": "958e6723",
   "metadata": {},
   "outputs": [
    {
     "name": "stdout",
     "output_type": "stream",
     "text": [
      "        Apple 2023 MacBook Pro (16-inch, M3 Max chip with 16‑core CPU and 40‑core GPU, 48GB Unified Memory, 1TB) - Space Black       \n",
      "₹3,99,900.00    ₹3,99,900\n"
     ]
    }
   ],
   "source": [
    "print(title)\n",
    "print(price)"
   ]
  },
  {
   "cell_type": "code",
   "execution_count": 54,
   "id": "d1c0de50",
   "metadata": {},
   "outputs": [],
   "source": [
    "\n",
    "today=f\"{datetime.datetime.now():%Y-%m-%d}\""
   ]
  },
  {
   "cell_type": "code",
   "execution_count": 57,
   "id": "9a3e2b9c",
   "metadata": {},
   "outputs": [],
   "source": [
    "import csv\n",
    "\n",
    "header = ['Product','Price','Date']\n",
    "data = [title,price,today]\n",
    "\n",
    "with open('AmazonWebScrapingProject.csv','w',newline='',encoding='UTF8') as f: #use for creating file\n",
    "    writer=csv.writer(f)    #csv.writer(f) command let us enter the data , f refers to file\n",
    "    writer.writerow(header) #writer.writer() use for entering element in file\n",
    "    writer.writerow(data)"
   ]
  },
  {
   "cell_type": "code",
   "execution_count": 43,
   "id": "fc2316ea",
   "metadata": {},
   "outputs": [
    {
     "name": "stdout",
     "output_type": "stream",
     "text": [
      "Apple 2023 MacBook Pro (16-inch, M3 Max chip with 16‑core CPU and 40‑core GPU, 48GB Unified Memory, 1TB) - Space Black\n",
      "3,99,900\n"
     ]
    }
   ],
   "source": [
    "print(title)\n",
    "print(price)"
   ]
  },
  {
   "cell_type": "code",
   "execution_count": 61,
   "id": "ac6c74c3",
   "metadata": {},
   "outputs": [
    {
     "data": {
      "text/html": [
       "<div>\n",
       "<style scoped>\n",
       "    .dataframe tbody tr th:only-of-type {\n",
       "        vertical-align: middle;\n",
       "    }\n",
       "\n",
       "    .dataframe tbody tr th {\n",
       "        vertical-align: top;\n",
       "    }\n",
       "\n",
       "    .dataframe thead th {\n",
       "        text-align: right;\n",
       "    }\n",
       "</style>\n",
       "<table border=\"1\" class=\"dataframe\">\n",
       "  <thead>\n",
       "    <tr style=\"text-align: right;\">\n",
       "      <th></th>\n",
       "      <th>Product</th>\n",
       "      <th>Price</th>\n",
       "      <th>Date</th>\n",
       "    </tr>\n",
       "  </thead>\n",
       "  <tbody>\n",
       "    <tr>\n",
       "      <th>0</th>\n",
       "      <td>Apple 2023 MacBook Pro (16-inch, M3 Max chip w...</td>\n",
       "      <td>3,99,900</td>\n",
       "      <td>2024-05-16</td>\n",
       "    </tr>\n",
       "  </tbody>\n",
       "</table>\n",
       "</div>"
      ],
      "text/plain": [
       "                                             Product     Price        Date\n",
       "0  Apple 2023 MacBook Pro (16-inch, M3 Max chip w...  3,99,900  2024-05-16"
      ]
     },
     "execution_count": 61,
     "metadata": {},
     "output_type": "execute_result"
    }
   ],
   "source": [
    "import pandas as pd\n",
    "df=pd.read_csv(r\"C:\\Users\\ASUS\\Downloads\\Data Analyst\\Python\\Python code\\AmazonWebScrapingProject.csv\")\n",
    "df"
   ]
  },
  {
   "cell_type": "code",
   "execution_count": 63,
   "id": "47fc6686",
   "metadata": {},
   "outputs": [],
   "source": [
    "#now we are appending data \n",
    "#we used 'a+' instead of 'w' for append function\n",
    "#it add data without creating header everytime and it add data everytime we run it, I'm going to run it 2 times for example\n",
    "\n",
    "with open('AmazonWebScrapingProject.csv','a+',newline='',encoding='UTF8') as f: \n",
    "    writer=csv.writer(f)    \n",
    "    writer.writerow(data)"
   ]
  },
  {
   "cell_type": "code",
   "execution_count": 64,
   "id": "c5dc7663",
   "metadata": {},
   "outputs": [
    {
     "data": {
      "text/html": [
       "<div>\n",
       "<style scoped>\n",
       "    .dataframe tbody tr th:only-of-type {\n",
       "        vertical-align: middle;\n",
       "    }\n",
       "\n",
       "    .dataframe tbody tr th {\n",
       "        vertical-align: top;\n",
       "    }\n",
       "\n",
       "    .dataframe thead th {\n",
       "        text-align: right;\n",
       "    }\n",
       "</style>\n",
       "<table border=\"1\" class=\"dataframe\">\n",
       "  <thead>\n",
       "    <tr style=\"text-align: right;\">\n",
       "      <th></th>\n",
       "      <th>Product</th>\n",
       "      <th>Price</th>\n",
       "      <th>Date</th>\n",
       "    </tr>\n",
       "  </thead>\n",
       "  <tbody>\n",
       "    <tr>\n",
       "      <th>0</th>\n",
       "      <td>Apple 2023 MacBook Pro (16-inch, M3 Max chip w...</td>\n",
       "      <td>3,99,900</td>\n",
       "      <td>2024-05-16</td>\n",
       "    </tr>\n",
       "    <tr>\n",
       "      <th>1</th>\n",
       "      <td>Apple 2023 MacBook Pro (16-inch, M3 Max chip w...</td>\n",
       "      <td>3,99,900</td>\n",
       "      <td>2024-05-16</td>\n",
       "    </tr>\n",
       "    <tr>\n",
       "      <th>2</th>\n",
       "      <td>Apple 2023 MacBook Pro (16-inch, M3 Max chip w...</td>\n",
       "      <td>3,99,900</td>\n",
       "      <td>2024-05-16</td>\n",
       "    </tr>\n",
       "  </tbody>\n",
       "</table>\n",
       "</div>"
      ],
      "text/plain": [
       "                                             Product     Price        Date\n",
       "0  Apple 2023 MacBook Pro (16-inch, M3 Max chip w...  3,99,900  2024-05-16\n",
       "1  Apple 2023 MacBook Pro (16-inch, M3 Max chip w...  3,99,900  2024-05-16\n",
       "2  Apple 2023 MacBook Pro (16-inch, M3 Max chip w...  3,99,900  2024-05-16"
      ]
     },
     "execution_count": 64,
     "metadata": {},
     "output_type": "execute_result"
    }
   ],
   "source": [
    "# comapre above df with this df after append to understand\n",
    "df=pd.read_csv(r\"C:\\Users\\ASUS\\Downloads\\Data Analyst\\Python\\Python code\\AmazonWebScrapingProject.csv\")\n",
    "df"
   ]
  },
  {
   "cell_type": "code",
   "execution_count": null,
   "id": "e216a4cd",
   "metadata": {},
   "outputs": [],
   "source": [
    "def check_price():     #def check_price() command check price every\n",
    "    url = 'https://www.amazon.in/Apple-MacBook-16-inch-16%E2%80%91core-40%E2%80%91core/dp/B0CM5SZ7CP/ref=sr_1_2_sspa?crid=1DBAF8MSUKOAF&dib=eyJ2IjoiMSJ9.56MtnFAWzi2JuWv0CsiCCBR35WPudK9Wh2LPKu6VrDKCwt6Zav-i9nE1hwBcmEmKZoiMlADV5clC6QvogMdjTXWioJz2T-LArfS2t3-DjP8ZxNrQhvBAGv2P9qA2f-bh9I3bPap75p4wxNWtlBy1qe84Sm0T7F0khLZntkJbpAAB2XjwYbz2i-cbaWyipYnrA1m6tIHz2c6SYi6tw4zqKzx9M6OCUqJfBwvTtOidTVE.oyFGAI7pu5NpTpI8VOamiqWqUVUZY3Cia3uXHnfQYmk&dib_tag=se&keywords=laptop&qid=1715867905&sprefix=laptop%2Caps%2C224&sr=8-2-spons&sp_csd=d2lkZ2V0TmFtZT1zcF9hdGY&psc=1'\n",
    "\n",
    "    headers={\"User-Agent\": \"Mozilla/5.0 (Windows NT 10.0; Win64; x64) AppleWebKit/537.36 (KHTML, like Gecko) Chrome/124.0.0.0 Safari/537.36\"}\n",
    "\n",
    "    page=requests.get(url, headers=headers)  \n",
    "\n",
    "    soup1=BeautifulSoup(page.content, 'html.parser')\n",
    "\n",
    "    title=soup1.find(id='productTitle').get_text()\n",
    "\n",
    "    price=soup1.find(id='corePriceDisplay_desktop_feature_div').get_text().strip()\n",
    "    \n",
    "    price=price[1:9]\n",
    "    title=title.strip()\n",
    "    \n",
    "    today=f\"{datetime.datetime.now():%Y-%m-%d}\"\n",
    "    \n",
    "    import csv\n",
    "\n",
    "    header = ['Product','Price','Date']\n",
    "    data = [title,price,today]\n",
    "\n",
    "    with open('AmazonWebScrapingProject.csv','w',newline='',encoding='UTF8') as f: \n",
    "        writer=csv.writer(f)    \n",
    "        writer.writerow(data)"
   ]
  },
  {
   "cell_type": "code",
   "execution_count": null,
   "id": "9c036cf9",
   "metadata": {},
   "outputs": [],
   "source": [
    "#then we use time command - it run check command accorfing to given time\n",
    " \n",
    "while(True):\n",
    "    check_price()\n",
    "    time.sleep(86400) #time.sleep(10) command check every 10 sec and run the check command\n",
    "                      #change 86400 sec i.e 24hrs"
   ]
  },
  {
   "cell_type": "code",
   "execution_count": null,
   "id": "5467694b",
   "metadata": {},
   "outputs": [],
   "source": [
    "df=pd.read_csv(r\"C:\\Users\\ASUS\\Downloads\\Data Analyst\\Python\\Python code\\AmazonWebScrapingProject.csv\")\n",
    "df # we had 3 row before check command with time (10 sec)"
   ]
  },
  {
   "cell_type": "code",
   "execution_count": null,
   "id": "40dd638c",
   "metadata": {},
   "outputs": [],
   "source": [
    "# If uou want to try sending yourself an email (just for fun) when a price hits below a certain level you can try it\n",
    "# out with this script\n",
    "\n",
    " def send_mail():\n",
    "    server = smtplib.SMTP_SSL('smtp.gmail.com',465)\n",
    "    server.ehlo()\n",
    "    #server.starttls()\n",
    "    server.ehlo()\n",
    "    server.login('A**@gmail.com','xxxxxxxxxxxxxx')\n",
    "    \n",
    "    subject = \"The Shirt you want is below $15! Now is your chance to buy!\"\n",
    "    body = \"Alex, This is the moment we have been waiting for. Now is your chance to pick up the shirt of your dreams. Don't mess it up! Link here: https://www.amazon.com/Funny-Data-Systems-Business-Analyst/dp/B07FNW9FGJ/ref=sr_1_3?dchild=1&keywords=data+analyst+tshirt&qid=1626655184&sr=8-3\"\n",
    "   \n",
    "    msg = f\"Subject: {subject}\\n\\n{body}\"\n",
    "    \n",
    "    server.sendmail(\n",
    "        'A***@gmail.com',\n",
    "        msg\n",
    "     \n",
    "    )\n",
    "    \n",
    "    \n",
    "    \n",
    " # we need to put command like this in the end of main frame/code\n",
    "  import csv\n",
    "\n",
    "    header = ['Product','Price','Date']\n",
    "    data = [title,price,today]\n",
    "\n",
    "    with open('AmazonWebScrapingProject.csv','w',newline='',encoding='UTF8') as f: \n",
    "        writer=csv.writer(f)    \n",
    "        writer.writerow(data)\n",
    "        \n",
    "    if(price<350000):\n",
    "        send_mail()\n"
   ]
  }
 ],
 "metadata": {
  "kernelspec": {
   "display_name": "Python 3 (ipykernel)",
   "language": "python",
   "name": "python3"
  },
  "language_info": {
   "codemirror_mode": {
    "name": "ipython",
    "version": 3
   },
   "file_extension": ".py",
   "mimetype": "text/x-python",
   "name": "python",
   "nbconvert_exporter": "python",
   "pygments_lexer": "ipython3",
   "version": "3.11.7"
  }
 },
 "nbformat": 4,
 "nbformat_minor": 5
}
