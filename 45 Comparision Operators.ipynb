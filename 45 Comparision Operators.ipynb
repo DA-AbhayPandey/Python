{
 "cells": [
  {
   "cell_type": "code",
   "execution_count": 12,
   "id": "68a80f59",
   "metadata": {},
   "outputs": [
    {
     "data": {
      "text/plain": [
       "False"
      ]
     },
     "execution_count": 12,
     "metadata": {},
     "output_type": "execute_result"
    }
   ],
   "source": [
    "# == use as a equal\n",
    "10 == 5+50"
   ]
  },
  {
   "cell_type": "code",
   "execution_count": 13,
   "id": "4f6a488d",
   "metadata": {},
   "outputs": [
    {
     "data": {
      "text/plain": [
       "True"
      ]
     },
     "execution_count": 13,
     "metadata": {},
     "output_type": "execute_result"
    }
   ],
   "source": [
    "# != use as not equal\n",
    "10 != 55"
   ]
  },
  {
   "cell_type": "code",
   "execution_count": 15,
   "id": "908f024e",
   "metadata": {},
   "outputs": [
    {
     "data": {
      "text/plain": [
       "False"
      ]
     },
     "execution_count": 15,
     "metadata": {},
     "output_type": "execute_result"
    }
   ],
   "source": [
    "'Choco' == 'Chips'"
   ]
  },
  {
   "cell_type": "code",
   "execution_count": 16,
   "id": "318f5bf8",
   "metadata": {},
   "outputs": [
    {
     "data": {
      "text/plain": [
       "True"
      ]
     },
     "execution_count": 16,
     "metadata": {},
     "output_type": "execute_result"
    }
   ],
   "source": [
    "'Milk' == 'Milk'"
   ]
  },
  {
   "cell_type": "code",
   "execution_count": 28,
   "id": "ef26637d",
   "metadata": {},
   "outputs": [
    {
     "data": {
      "text/plain": [
       "True"
      ]
     },
     "execution_count": 28,
     "metadata": {},
     "output_type": "execute_result"
    }
   ],
   "source": [
    "z = 'milk'\n",
    "y = 'chips'\n",
    "z!=y"
   ]
  },
  {
   "cell_type": "code",
   "execution_count": 29,
   "id": "e24e2df7",
   "metadata": {},
   "outputs": [
    {
     "data": {
      "text/plain": [
       "False"
      ]
     },
     "execution_count": 29,
     "metadata": {},
     "output_type": "execute_result"
    }
   ],
   "source": [
    "10 < 10"
   ]
  },
  {
   "cell_type": "code",
   "execution_count": 30,
   "id": "e5fef036",
   "metadata": {},
   "outputs": [
    {
     "data": {
      "text/plain": [
       "True"
      ]
     },
     "execution_count": 30,
     "metadata": {},
     "output_type": "execute_result"
    }
   ],
   "source": [
    "10<=10"
   ]
  },
  {
   "cell_type": "code",
   "execution_count": 32,
   "id": "ed9be4a3",
   "metadata": {},
   "outputs": [
    {
     "data": {
      "text/plain": [
       "False"
      ]
     },
     "execution_count": 32,
     "metadata": {},
     "output_type": "execute_result"
    }
   ],
   "source": [
    "(10>15) and (25>15)"
   ]
  },
  {
   "cell_type": "code",
   "execution_count": 33,
   "id": "9f6d665c",
   "metadata": {},
   "outputs": [
    {
     "data": {
      "text/plain": [
       "True"
      ]
     },
     "execution_count": 33,
     "metadata": {},
     "output_type": "execute_result"
    }
   ],
   "source": [
    "(10<15) and (25>15)"
   ]
  },
  {
   "cell_type": "code",
   "execution_count": 34,
   "id": "3e8c0b93",
   "metadata": {},
   "outputs": [
    {
     "data": {
      "text/plain": [
       "True"
      ]
     },
     "execution_count": 34,
     "metadata": {},
     "output_type": "execute_result"
    }
   ],
   "source": [
    "(10>15) or (25>15)"
   ]
  },
  {
   "cell_type": "code",
   "execution_count": 35,
   "id": "03543233",
   "metadata": {},
   "outputs": [
    {
     "data": {
      "text/plain": [
       "False"
      ]
     },
     "execution_count": 35,
     "metadata": {},
     "output_type": "execute_result"
    }
   ],
   "source": [
    "('choco' == 'chips') or (10>15)"
   ]
  },
  {
   "cell_type": "code",
   "execution_count": 36,
   "id": "ae449201",
   "metadata": {},
   "outputs": [
    {
     "data": {
      "text/plain": [
       "False"
      ]
     },
     "execution_count": 36,
     "metadata": {},
     "output_type": "execute_result"
    }
   ],
   "source": [
    "not(50>10)"
   ]
  },
  {
   "cell_type": "code",
   "execution_count": 40,
   "id": "0a606ed6",
   "metadata": {},
   "outputs": [
    {
     "data": {
      "text/plain": [
       "True"
      ]
     },
     "execution_count": 40,
     "metadata": {},
     "output_type": "execute_result"
    }
   ],
   "source": [
    "abhay = 'Abhay is the best'\n",
    "'best' in abhay"
   ]
  },
  {
   "cell_type": "code",
   "execution_count": 41,
   "id": "e8d30856",
   "metadata": {},
   "outputs": [
    {
     "data": {
      "text/plain": [
       "True"
      ]
     },
     "execution_count": 41,
     "metadata": {},
     "output_type": "execute_result"
    }
   ],
   "source": [
    "List = [1,4,7,9]\n",
    "\n",
    "1 in List"
   ]
  },
  {
   "cell_type": "code",
   "execution_count": 43,
   "id": "6a8ef8c2",
   "metadata": {},
   "outputs": [
    {
     "data": {
      "text/plain": [
       "True"
      ]
     },
     "execution_count": 43,
     "metadata": {},
     "output_type": "execute_result"
    }
   ],
   "source": [
    "2 not in List"
   ]
  },
  {
   "cell_type": "code",
   "execution_count": 44,
   "id": "e3ee2664",
   "metadata": {},
   "outputs": [
    {
     "data": {
      "text/plain": [
       "False"
      ]
     },
     "execution_count": 44,
     "metadata": {},
     "output_type": "execute_result"
    }
   ],
   "source": [
    "List_2 = [5]\n",
    "List_2 in List"
   ]
  },
  {
   "cell_type": "code",
   "execution_count": 45,
   "id": "9d7bc79b",
   "metadata": {},
   "outputs": [
    {
     "data": {
      "text/plain": [
       "True"
      ]
     },
     "execution_count": 45,
     "metadata": {},
     "output_type": "execute_result"
    }
   ],
   "source": [
    "List_2 not in List"
   ]
  },
  {
   "cell_type": "code",
   "execution_count": null,
   "id": "3d604a29",
   "metadata": {},
   "outputs": [],
   "source": []
  }
 ],
 "metadata": {
  "kernelspec": {
   "display_name": "Python 3 (ipykernel)",
   "language": "python",
   "name": "python3"
  },
  "language_info": {
   "codemirror_mode": {
    "name": "ipython",
    "version": 3
   },
   "file_extension": ".py",
   "mimetype": "text/x-python",
   "name": "python",
   "nbconvert_exporter": "python",
   "pygments_lexer": "ipython3",
   "version": "3.11.7"
  }
 },
 "nbformat": 4,
 "nbformat_minor": 5
}
