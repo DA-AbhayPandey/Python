{
 "cells": [
  {
   "cell_type": "code",
   "execution_count": 17,
   "id": "6bcd9280",
   "metadata": {},
   "outputs": [
    {
     "name": "stdout",
     "output_type": "stream",
     "text": [
      "1\n",
      "2\n",
      "4\n",
      "8\n"
     ]
    }
   ],
   "source": [
    "num=1\n",
    "\n",
    "while num < 10:\n",
    "    print(num)\n",
    "    num = num + num"
   ]
  },
  {
   "cell_type": "code",
   "execution_count": 42,
   "id": "4e27891b",
   "metadata": {},
   "outputs": [
    {
     "name": "stdout",
     "output_type": "stream",
     "text": [
      "1\n",
      "2\n",
      "4\n",
      "8\n",
      "that's enough\n"
     ]
    }
   ],
   "source": [
    "num=1\n",
    "\n",
    "while num < 10:\n",
    "    print(num)\n",
    "    if num == 6:\n",
    "        break\n",
    "    num = num + num\n",
    "else:\n",
    "    print(\"that's enough\")"
   ]
  },
  {
   "cell_type": "code",
   "execution_count": 50,
   "id": "dedc6556",
   "metadata": {},
   "outputs": [
    {
     "name": "stdout",
     "output_type": "stream",
     "text": [
      "1\n",
      "2\n",
      "3\n",
      "4\n",
      "6\n",
      "7\n",
      "8\n",
      "9\n",
      "10\n",
      "that's enough\n"
     ]
    }
   ],
   "source": [
    "num=0\n",
    "\n",
    "while num < 10:\n",
    "    num = num + 1\n",
    "    if num ==5:\n",
    "        continue\n",
    "    print(num)  \n",
    "else:\n",
    "    print(\"that's enough\")"
   ]
  },
  {
   "cell_type": "code",
   "execution_count": 60,
   "id": "d319e48c",
   "metadata": {},
   "outputs": [
    {
     "name": "stdout",
     "output_type": "stream",
     "text": [
      "2\n",
      "4\n",
      "8\n"
     ]
    }
   ],
   "source": [
    "num = 1\n",
    "\n",
    "while num < 5:\n",
    "    num = num + num\n",
    "    print(num)\n",
    "    "
   ]
  },
  {
   "cell_type": "code",
   "execution_count": null,
   "id": "2e34a8e7",
   "metadata": {},
   "outputs": [],
   "source": []
  }
 ],
 "metadata": {
  "kernelspec": {
   "display_name": "Python 3 (ipykernel)",
   "language": "python",
   "name": "python3"
  },
  "language_info": {
   "codemirror_mode": {
    "name": "ipython",
    "version": 3
   },
   "file_extension": ".py",
   "mimetype": "text/x-python",
   "name": "python",
   "nbconvert_exporter": "python",
   "pygments_lexer": "ipython3",
   "version": "3.11.7"
  }
 },
 "nbformat": 4,
 "nbformat_minor": 5
}
