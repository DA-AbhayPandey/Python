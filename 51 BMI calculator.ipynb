{
 "cells": [
  {
   "cell_type": "code",
   "execution_count": null,
   "id": "17306857",
   "metadata": {},
   "outputs": [],
   "source": [
    "#BMI = (weight in pound * 703) / (height in inches * height in inches)"
   ]
  },
  {
   "cell_type": "code",
   "execution_count": null,
   "id": "81e0dc74",
   "metadata": {},
   "outputs": [],
   "source": [
    "Under 18.5\tUnderweight\tMinimal\n",
    "18.5 - 24.9\tNormal Weight\tMinimal\n",
    "25 - 29.9\tOverweight\tIncreased\n",
    "30 - 34.9\tObese\tHigh\n",
    "35 - 39.9\tSeverely Obese\tVery High\n",
    "40 and over\tMorbidly Obese\tExtremely High"
   ]
  },
  {
   "cell_type": "code",
   "execution_count": 36,
   "id": "4bb35d5c",
   "metadata": {},
   "outputs": [
    {
     "name": "stdout",
     "output_type": "stream",
     "text": [
      "Enter your name: Abhay Pandey\n",
      "Enter your weight in pound: 158\n",
      "Enter your height in inches: 70\n",
      "22.668163265306124\n",
      "Abhay Pandey, you are Normal Weight. Please keep healthy.\n"
     ]
    }
   ],
   "source": [
    "name=input(\"Enter your name: \")\n",
    "weight=int(input(\"Enter your weight in pound: \"))\n",
    "height=int(input(\"Enter your height in inches: \"))\n",
    "\n",
    "BMI = (weight*703)/(height*height)\n",
    "print(BMI)\n",
    "\n",
    "if BMI>0:\n",
    "    if BMI<18.5:\n",
    "        print(name+\", you are Underweight. Please eat healthy.\")\n",
    "    elif (BMI<=24.9):\n",
    "        print(name+\", you are Normal Weight. Please keep healthy.\")\n",
    "    elif (BMI<=29.9):\n",
    "        print(name+\", you are Overweight. Please eat healthy.\")\n",
    "    elif (BMI<=34.9):\n",
    "        print(name+\", you are Obese. Please start dieting.\")\n",
    "    elif (BMI<=39.9):\n",
    "        print(name+\", you are Severely Obese. You need strict dieting.\")\n",
    "    else:\n",
    "        print(name+\", you are Morbidly Obese. You are on risk, please concern with doctor.\")\n",
    "else:\n",
    "    print(\"Enter valid input\")\n"
   ]
  },
  {
   "cell_type": "code",
   "execution_count": 6,
   "id": "d50f2a73",
   "metadata": {},
   "outputs": [
    {
     "data": {
      "text/plain": [
       "str"
      ]
     },
     "execution_count": 6,
     "metadata": {},
     "output_type": "execute_result"
    }
   ],
   "source": [
    "type(weight)"
   ]
  },
  {
   "cell_type": "code",
   "execution_count": 17,
   "id": "5de9714d",
   "metadata": {},
   "outputs": [],
   "source": [
    "BMI = (weight*703)/(height*height)"
   ]
  },
  {
   "cell_type": "code",
   "execution_count": 26,
   "id": "13aa8087",
   "metadata": {},
   "outputs": [
    {
     "name": "stdout",
     "output_type": "stream",
     "text": [
      "22.668163265306124\n"
     ]
    }
   ],
   "source": [
    "print(BMI)"
   ]
  },
  {
   "cell_type": "code",
   "execution_count": 28,
   "id": "517dacf5",
   "metadata": {},
   "outputs": [],
   "source": [
    "if BMI>0:\n",
    "    if BMI<18.5:\n",
    "        print(name+\", you are Underweight. Please eat healthy.\")\n",
    "    elif (BMI>=24.9):\n",
    "        print(name+\", you are Normal Weight. Please keep healthy.\")\n",
    "    elif (BMI>=29.9):\n",
    "        print(name+\", you are Overweight. Please eat healthy.\")\n",
    "    elif (BMI>=34.9):\n",
    "        print(name+\", you are Obese. Please start dieting.\")\n",
    "    elif (BMI>=39.9):\n",
    "        print(name+\", you are Severely Obese. You need strict dieting.\")\n",
    "    elif (BMI>=40):\n",
    "        print(name+\", you are Morbidly Obese. You are on risk, please concern with doctor.\")\n",
    "else:\n",
    "    print(\"Enter valid input\")\n",
    "            "
   ]
  },
  {
   "cell_type": "code",
   "execution_count": 40,
   "id": "e32bc917",
   "metadata": {},
   "outputs": [
    {
     "name": "stdout",
     "output_type": "stream",
     "text": [
      "Enter your name: nishu\n",
      "Enter your weight in pound: 170\n",
      "Enter your height in inches: -100\n",
      "11.951\n",
      "nishu, you are Underweight. Please eat healthy.\n"
     ]
    }
   ],
   "source": [
    "name=input(\"Enter your name: \")\n",
    "weight=int(input(\"Enter your weight in pound: \"))\n",
    "height=int(input(\"Enter your height in inches: \"))\n",
    "\n",
    "BMI = (weight*703)/(height*height)\n",
    "print(BMI)\n",
    "\n",
    "if BMI>0:\n",
    "    if BMI<18.5:\n",
    "        print(name+\", you are Underweight. Please eat healthy.\")\n",
    "    elif (BMI<=24.9):\n",
    "        print(name+\", you are Normal Weight. Please keep healthy.\")\n",
    "    elif (BMI<=29.9):\n",
    "        print(name+\", you are Overweight. Please eat healthy.\")\n",
    "    elif (BMI<=34.9):\n",
    "        print(name+\", you are Obese. Please start dieting.\")\n",
    "    elif (BMI<=39.9):\n",
    "        print(name+\", you are Severely Obese. You need strict dieting.\")\n",
    "    else:\n",
    "        print(name+\", you are Morbidly Obese. You are on risk, please concern with doctor.\")\n",
    "else:\n",
    "    print(\"Enter valid input\")"
   ]
  },
  {
   "cell_type": "code",
   "execution_count": null,
   "id": "9dbff6b9",
   "metadata": {},
   "outputs": [],
   "source": []
  }
 ],
 "metadata": {
  "kernelspec": {
   "display_name": "Python 3 (ipykernel)",
   "language": "python",
   "name": "python3"
  },
  "language_info": {
   "codemirror_mode": {
    "name": "ipython",
    "version": 3
   },
   "file_extension": ".py",
   "mimetype": "text/x-python",
   "name": "python",
   "nbconvert_exporter": "python",
   "pygments_lexer": "ipython3",
   "version": "3.11.7"
  }
 },
 "nbformat": 4,
 "nbformat_minor": 5
}
