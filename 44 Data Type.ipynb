{
 "cells": [
  {
   "cell_type": "code",
   "execution_count": 1,
   "id": "2e535413",
   "metadata": {},
   "outputs": [
    {
     "data": {
      "text/plain": [
       "int"
      ]
     },
     "execution_count": 1,
     "metadata": {},
     "output_type": "execute_result"
    }
   ],
   "source": [
    "#Numerice data type..there are basically 3 types of numeric data\n",
    "#int are whole no. like 10,-10,1 etc\n",
    "type(10-90)"
   ]
  },
  {
   "cell_type": "code",
   "execution_count": 2,
   "id": "169ab381",
   "metadata": {},
   "outputs": [
    {
     "data": {
      "text/plain": [
       "float"
      ]
     },
     "execution_count": 2,
     "metadata": {},
     "output_type": "execute_result"
    }
   ],
   "source": [
    "#flot are decimal no. like 10.4,-10.2,1.5 etc\n",
    "type(3+3.5)"
   ]
  },
  {
   "cell_type": "code",
   "execution_count": 4,
   "id": "a5c98893",
   "metadata": {},
   "outputs": [
    {
     "data": {
      "text/plain": [
       "complex"
      ]
     },
     "execution_count": 4,
     "metadata": {},
     "output_type": "execute_result"
    }
   ],
   "source": [
    "#complex are those where no. used with j like 3j , 5j, 7j\n",
    "type(3j)"
   ]
  },
  {
   "cell_type": "code",
   "execution_count": 7,
   "id": "2ec508b9",
   "metadata": {},
   "outputs": [
    {
     "data": {
      "text/plain": [
       "bool"
      ]
     },
     "execution_count": 7,
     "metadata": {},
     "output_type": "execute_result"
    }
   ],
   "source": [
    "#Boolean Values, there are only two types i.e True or False\n",
    "type(True)"
   ]
  },
  {
   "cell_type": "code",
   "execution_count": 8,
   "id": "15a13bdf",
   "metadata": {},
   "outputs": [
    {
     "data": {
      "text/plain": [
       "bool"
      ]
     },
     "execution_count": 8,
     "metadata": {},
     "output_type": "execute_result"
    }
   ],
   "source": [
    "type(False)"
   ]
  },
  {
   "cell_type": "code",
   "execution_count": 9,
   "id": "b5189dcd",
   "metadata": {},
   "outputs": [
    {
     "data": {
      "text/plain": [
       "False"
      ]
     },
     "execution_count": 9,
     "metadata": {},
     "output_type": "execute_result"
    }
   ],
   "source": [
    "1 > 4"
   ]
  },
  {
   "cell_type": "code",
   "execution_count": 10,
   "id": "9f1fcead",
   "metadata": {},
   "outputs": [
    {
     "data": {
      "text/plain": [
       "True"
      ]
     },
     "execution_count": 10,
     "metadata": {},
     "output_type": "execute_result"
    }
   ],
   "source": [
    "4==4"
   ]
  },
  {
   "cell_type": "code",
   "execution_count": 11,
   "id": "8011b8e3",
   "metadata": {},
   "outputs": [
    {
     "data": {
      "text/plain": [
       "bool"
      ]
     },
     "execution_count": 11,
     "metadata": {},
     "output_type": "execute_result"
    }
   ],
   "source": [
    "type(6==6)"
   ]
  },
  {
   "cell_type": "code",
   "execution_count": 12,
   "id": "b4139e4b",
   "metadata": {},
   "outputs": [
    {
     "data": {
      "text/plain": [
       "'Abhay is best'"
      ]
     },
     "execution_count": 12,
     "metadata": {},
     "output_type": "execute_result"
    }
   ],
   "source": [
    "#String\n",
    "#Single quote\n",
    "'Abhay is best'"
   ]
  },
  {
   "cell_type": "code",
   "execution_count": 13,
   "id": "5deebef8",
   "metadata": {},
   "outputs": [
    {
     "data": {
      "text/plain": [
       "'Abhay is worst'"
      ]
     },
     "execution_count": 13,
     "metadata": {},
     "output_type": "execute_result"
    }
   ],
   "source": [
    "#double quote\n",
    "\"Abhay is worst\""
   ]
  },
  {
   "cell_type": "code",
   "execution_count": 15,
   "id": "07acd0af",
   "metadata": {},
   "outputs": [
    {
     "data": {
      "text/plain": [
       "'\\nAbhay is best\\nabhay is worst\\nabhay is suck\\n'"
      ]
     },
     "execution_count": 15,
     "metadata": {},
     "output_type": "execute_result"
    }
   ],
   "source": [
    "#multiline\n",
    "\"\"\"\n",
    "Abhay is best\n",
    "abhay is worst\n",
    "abhay is suck\n",
    "\"\"\""
   ]
  },
  {
   "cell_type": "code",
   "execution_count": 16,
   "id": "5923860b",
   "metadata": {},
   "outputs": [
    {
     "name": "stdout",
     "output_type": "stream",
     "text": [
      "\n",
      "Abhay is best\n",
      "abhay is worst\n",
      "abhay is suck\n",
      "\n"
     ]
    }
   ],
   "source": [
    "z = \"\"\"\n",
    "Abhay is best\n",
    "abhay is worst\n",
    "abhay is suck\n",
    "\"\"\"\n",
    "print(z)"
   ]
  },
  {
   "cell_type": "code",
   "execution_count": 20,
   "id": "7a1858e1",
   "metadata": {},
   "outputs": [
    {
     "name": "stdout",
     "output_type": "stream",
     "text": [
      "Abhay\n"
     ]
    }
   ],
   "source": [
    "a = \"Abhay IS worst\"\n",
    "print(a[:5])"
   ]
  },
  {
   "cell_type": "code",
   "execution_count": 18,
   "id": "4ec662a7",
   "metadata": {},
   "outputs": [
    {
     "name": "stdout",
     "output_type": "stream",
     "text": [
      "Abhay IS \n"
     ]
    }
   ],
   "source": [
    "print(a[:-5])"
   ]
  },
  {
   "cell_type": "code",
   "execution_count": 22,
   "id": "60eaa8c9",
   "metadata": {},
   "outputs": [
    {
     "name": "stdout",
     "output_type": "stream",
     "text": [
      "IS\n"
     ]
    }
   ],
   "source": [
    "print(a[6:8])"
   ]
  },
  {
   "cell_type": "code",
   "execution_count": 23,
   "id": "13db0164",
   "metadata": {},
   "outputs": [
    {
     "name": "stdout",
     "output_type": "stream",
     "text": [
      "I\n"
     ]
    }
   ],
   "source": [
    "print(a[6])"
   ]
  },
  {
   "cell_type": "code",
   "execution_count": 25,
   "id": "81ac330e",
   "metadata": {},
   "outputs": [
    {
     "data": {
      "text/plain": [
       "'Abhay IS worstAbhay IS worst'"
      ]
     },
     "execution_count": 25,
     "metadata": {},
     "output_type": "execute_result"
    }
   ],
   "source": [
    "a*2"
   ]
  },
  {
   "cell_type": "code",
   "execution_count": 26,
   "id": "de04e04d",
   "metadata": {},
   "outputs": [
    {
     "data": {
      "text/plain": [
       "'Abhay IS worstAbhay IS worstAbhay IS worst'"
      ]
     },
     "execution_count": 26,
     "metadata": {},
     "output_type": "execute_result"
    }
   ],
   "source": [
    "a+a+a"
   ]
  },
  {
   "cell_type": "code",
   "execution_count": 27,
   "id": "36dcc7ea",
   "metadata": {},
   "outputs": [
    {
     "data": {
      "text/plain": [
       "[1, 5, 7]"
      ]
     },
     "execution_count": 27,
     "metadata": {},
     "output_type": "execute_result"
    }
   ],
   "source": [
    "#list , create by using {},[]\n",
    "[1,5,7]"
   ]
  },
  {
   "cell_type": "code",
   "execution_count": 28,
   "id": "f611917e",
   "metadata": {},
   "outputs": [
    {
     "data": {
      "text/plain": [
       "{'bike', 'cycle', 'scooty'}"
      ]
     },
     "execution_count": 28,
     "metadata": {},
     "output_type": "execute_result"
    }
   ],
   "source": [
    "{'cycle','bike','scooty'}"
   ]
  },
  {
   "cell_type": "code",
   "execution_count": 38,
   "id": "c341893d",
   "metadata": {},
   "outputs": [
    {
     "data": {
      "text/plain": [
       "['cycle', 'bike', 'scooty', 'Ev scooter']"
      ]
     },
     "execution_count": 38,
     "metadata": {},
     "output_type": "execute_result"
    }
   ],
   "source": [
    "#use .append to add element in list\n",
    "Two_Wheeler = ['cycle','bike','scooty']\n",
    "Two_Wheeler.append('Ev scooter')\n",
    "Two_Wheeler"
   ]
  },
  {
   "cell_type": "code",
   "execution_count": 39,
   "id": "89b5a03d",
   "metadata": {},
   "outputs": [
    {
     "data": {
      "text/plain": [
       "['cycle', 'bike', 'petrol scooter', 'Ev scooter']"
      ]
     },
     "execution_count": 39,
     "metadata": {},
     "output_type": "execute_result"
    }
   ],
   "source": [
    "#use position no to replace element in list\n",
    "Two_Wheeler[2] = 'petrol scooter'\n",
    "Two_Wheeler"
   ]
  },
  {
   "cell_type": "code",
   "execution_count": 44,
   "id": "bd03b91e",
   "metadata": {},
   "outputs": [
    {
     "data": {
      "text/plain": [
       "['abhay', 'sahil', 'rahul', ['neha', 'simran', 'rina'], True]"
      ]
     },
     "execution_count": 44,
     "metadata": {},
     "output_type": "execute_result"
    }
   ],
   "source": [
    "#if there is list within the list\n",
    "Student = ['abhay' , 'sahil' , 'rahul' , ['neha','simran','rina'],True ]\n",
    "Student"
   ]
  },
  {
   "cell_type": "code",
   "execution_count": 45,
   "id": "11f2f2ba",
   "metadata": {},
   "outputs": [
    {
     "data": {
      "text/plain": [
       "['neha', 'simran', 'rina']"
      ]
     },
     "execution_count": 45,
     "metadata": {},
     "output_type": "execute_result"
    }
   ],
   "source": [
    "Student[3]"
   ]
  },
  {
   "cell_type": "code",
   "execution_count": 43,
   "id": "7485afda",
   "metadata": {},
   "outputs": [
    {
     "data": {
      "text/plain": [
       "'rina'"
      ]
     },
     "execution_count": 43,
     "metadata": {},
     "output_type": "execute_result"
    }
   ],
   "source": [
    "Student[3][2]"
   ]
  },
  {
   "cell_type": "code",
   "execution_count": 46,
   "id": "9c96a050",
   "metadata": {},
   "outputs": [
    {
     "data": {
      "text/plain": [
       "(5, 3, 7, 1, 9)"
      ]
     },
     "execution_count": 46,
     "metadata": {},
     "output_type": "execute_result"
    }
   ],
   "source": [
    "#tuple are list which cretae with ()\n",
    "tuple_list = (5, 3, 7, 1, 9)\n",
    "tuple_list"
   ]
  },
  {
   "cell_type": "code",
   "execution_count": 48,
   "id": "f37eea77",
   "metadata": {},
   "outputs": [
    {
     "ename": "AttributeError",
     "evalue": "'tuple' object has no attribute 'append'",
     "output_type": "error",
     "traceback": [
      "\u001b[1;31m---------------------------------------------------------------------------\u001b[0m",
      "\u001b[1;31mAttributeError\u001b[0m                            Traceback (most recent call last)",
      "Cell \u001b[1;32mIn[48], line 2\u001b[0m\n\u001b[0;32m      1\u001b[0m \u001b[38;5;66;03m#truple list cannot be edited\u001b[39;00m\n\u001b[1;32m----> 2\u001b[0m tuple_list\u001b[38;5;241m.\u001b[39mappend[\u001b[38;5;241m-\u001b[39m\u001b[38;5;241m1\u001b[39m]\n",
      "\u001b[1;31mAttributeError\u001b[0m: 'tuple' object has no attribute 'append'"
     ]
    }
   ],
   "source": [
    "#truple list cannot be edited\n",
    "tuple_list.append[-1]"
   ]
  },
  {
   "cell_type": "code",
   "execution_count": 49,
   "id": "c465f8ba",
   "metadata": {},
   "outputs": [
    {
     "data": {
      "text/plain": [
       "{5, 7, 9, 11}"
      ]
     },
     "execution_count": 49,
     "metadata": {},
     "output_type": "execute_result"
    }
   ],
   "source": [
    "#sets are created with{}\n",
    "sets={5,7,9,11}\n",
    "sets"
   ]
  },
  {
   "cell_type": "code",
   "execution_count": 50,
   "id": "42aacc62",
   "metadata": {},
   "outputs": [
    {
     "data": {
      "text/plain": [
       "set"
      ]
     },
     "execution_count": 50,
     "metadata": {},
     "output_type": "execute_result"
    }
   ],
   "source": [
    "type(sets)"
   ]
  },
  {
   "cell_type": "code",
   "execution_count": 51,
   "id": "2f5777bc",
   "metadata": {},
   "outputs": [
    {
     "data": {
      "text/plain": [
       "{4, 5, 7, 8, 9, 11, 34, 56}"
      ]
     },
     "execution_count": 51,
     "metadata": {},
     "output_type": "execute_result"
    }
   ],
   "source": [
    "#sets only print unique value\n",
    "sets_one={5,7,9,11,34,56,5,7,9,8,4,11}\n",
    "sets_one"
   ]
  },
  {
   "cell_type": "code",
   "execution_count": 53,
   "id": "cd16388c",
   "metadata": {},
   "outputs": [
    {
     "name": "stdout",
     "output_type": "stream",
     "text": [
      "{1, 2, 3, 4, 5, 6, 7, 8, 9, 10, 11, 12, 13, 14, 16, 34, 56}\n"
     ]
    }
   ],
   "source": [
    "#we can combine or compare unique value of two sets using |\n",
    "sets_two={2,4,6,8,10,12,14,16,8,5}\n",
    "sets_three={1,2,3,5,7,13}\n",
    "print(sets_one|sets_two|sets_three)"
   ]
  },
  {
   "cell_type": "code",
   "execution_count": 55,
   "id": "27286772",
   "metadata": {},
   "outputs": [
    {
     "name": "stdout",
     "output_type": "stream",
     "text": [
      "{5}\n"
     ]
    }
   ],
   "source": [
    "# & use for print common element in different sets\n",
    "print(sets_one&sets_two&sets_three)"
   ]
  },
  {
   "cell_type": "code",
   "execution_count": 57,
   "id": "e0b8a3b2",
   "metadata": {},
   "outputs": [
    {
     "name": "stdout",
     "output_type": "stream",
     "text": [
      "{56, 9, 34, 11}\n"
     ]
    }
   ],
   "source": [
    "# - use for print uncommon element in different sets\n",
    "print(sets_one-sets_two-sets_three)"
   ]
  },
  {
   "cell_type": "code",
   "execution_count": 58,
   "id": "e76cb9fb",
   "metadata": {},
   "outputs": [
    {
     "name": "stdout",
     "output_type": "stream",
     "text": [
      "{2, 6, 10, 12, 14, 16}\n"
     ]
    }
   ],
   "source": [
    "#result always show from first set \n",
    "print(sets_two-sets_one)"
   ]
  },
  {
   "cell_type": "code",
   "execution_count": 59,
   "id": "af84787c",
   "metadata": {},
   "outputs": [
    {
     "name": "stdout",
     "output_type": "stream",
     "text": [
      "{34, 2, 6, 7, 9, 10, 11, 12, 14, 16, 56}\n"
     ]
    }
   ],
   "source": [
    "# ^ use for print uncommon element in both sets\n",
    "print(sets_two^sets_one)"
   ]
  },
  {
   "cell_type": "code",
   "execution_count": 63,
   "id": "baf88a1e",
   "metadata": {},
   "outputs": [
    {
     "data": {
      "text/plain": [
       "{'name': 'Abhay',\n",
       " 'cast': 'Pandey',\n",
       " 'age': 28,\n",
       " 'weight': 75,\n",
       " 'color': ['black', 'brown']}"
      ]
     },
     "execution_count": 63,
     "metadata": {},
     "output_type": "execute_result"
    }
   ],
   "source": [
    "#dictionaries \n",
    "#key/value\n",
    "dicti={'name':'Abhay','cast':'Pandey','age':28,'weight':75,'color':['black','brown']}\n",
    "dicti"
   ]
  },
  {
   "cell_type": "code",
   "execution_count": 64,
   "id": "590fc12d",
   "metadata": {},
   "outputs": [
    {
     "data": {
      "text/plain": [
       "dict"
      ]
     },
     "execution_count": 64,
     "metadata": {},
     "output_type": "execute_result"
    }
   ],
   "source": [
    "type(dicti)"
   ]
  },
  {
   "cell_type": "code",
   "execution_count": 70,
   "id": "edb9f16d",
   "metadata": {},
   "outputs": [
    {
     "data": {
      "text/plain": [
       "dict_values(['Abhay', 'Pandey', 28, 75, ['black', 'brown']])"
      ]
     },
     "execution_count": 70,
     "metadata": {},
     "output_type": "execute_result"
    }
   ],
   "source": [
    "dicti.values()"
   ]
  },
  {
   "cell_type": "code",
   "execution_count": 71,
   "id": "c93eb3b8",
   "metadata": {},
   "outputs": [
    {
     "data": {
      "text/plain": [
       "dict_keys(['name', 'cast', 'age', 'weight', 'color'])"
      ]
     },
     "execution_count": 71,
     "metadata": {},
     "output_type": "execute_result"
    }
   ],
   "source": [
    "dicti.keys()"
   ]
  },
  {
   "cell_type": "code",
   "execution_count": 73,
   "id": "296adc06",
   "metadata": {},
   "outputs": [
    {
     "data": {
      "text/plain": [
       "dict_items([('name', 'Abhay'), ('cast', 'Pandey'), ('age', 28), ('weight', 75), ('color', ['black', 'brown'])])"
      ]
     },
     "execution_count": 73,
     "metadata": {},
     "output_type": "execute_result"
    }
   ],
   "source": [
    "dicti.items()"
   ]
  },
  {
   "cell_type": "code",
   "execution_count": 76,
   "id": "a4c84871",
   "metadata": {},
   "outputs": [
    {
     "ename": "KeyError",
     "evalue": "1",
     "output_type": "error",
     "traceback": [
      "\u001b[1;31m---------------------------------------------------------------------------\u001b[0m",
      "\u001b[1;31mKeyError\u001b[0m                                  Traceback (most recent call last)",
      "Cell \u001b[1;32mIn[76], line 2\u001b[0m\n\u001b[0;32m      1\u001b[0m \u001b[38;5;66;03m#in dictionary we can use [1] for items instead we use key name [cast]\u001b[39;00m\n\u001b[1;32m----> 2\u001b[0m dicti[\u001b[38;5;241m1\u001b[39m]\n",
      "\u001b[1;31mKeyError\u001b[0m: 1"
     ]
    }
   ],
   "source": [
    "#in dictionary we can use [1] for items instead we use key name [cast]\n",
    "dicti[1]"
   ]
  },
  {
   "cell_type": "code",
   "execution_count": 77,
   "id": "f280ce20",
   "metadata": {},
   "outputs": [
    {
     "data": {
      "text/plain": [
       "'Pandey'"
      ]
     },
     "execution_count": 77,
     "metadata": {},
     "output_type": "execute_result"
    }
   ],
   "source": [
    "dicti['cast']"
   ]
  },
  {
   "cell_type": "code",
   "execution_count": 78,
   "id": "715dc07e",
   "metadata": {},
   "outputs": [
    {
     "data": {
      "text/plain": [
       "{'name': 'Abhay',\n",
       " 'cast': 'Pandey',\n",
       " 'age': 27,\n",
       " 'weight': 75,\n",
       " 'color': ['black', 'brown']}"
      ]
     },
     "execution_count": 78,
     "metadata": {},
     "output_type": "execute_result"
    }
   ],
   "source": [
    "dicti['age']=27\n",
    "dicti"
   ]
  },
  {
   "cell_type": "code",
   "execution_count": 88,
   "id": "846bd953",
   "metadata": {},
   "outputs": [
    {
     "data": {
      "text/plain": [
       "{'name': 'Abhay',\n",
       " 'cast': 'Pandey',\n",
       " 'age': 27,\n",
       " 'weight': 73,\n",
       " 'color': ['black', 'brown'],\n",
       " 'status': 'single'}"
      ]
     },
     "execution_count": 88,
     "metadata": {},
     "output_type": "execute_result"
    }
   ],
   "source": [
    "# .update use for uupdate or add items\n",
    "dicti.update({'weight': 73,'status':'single'})\n",
    "dicti"
   ]
  },
  {
   "cell_type": "code",
   "execution_count": 89,
   "id": "d20ea14b",
   "metadata": {},
   "outputs": [
    {
     "data": {
      "text/plain": [
       "{'name': 'Abhay',\n",
       " 'cast': 'Pandey',\n",
       " 'age': 27,\n",
       " 'weight': 73,\n",
       " 'status': 'single'}"
      ]
     },
     "execution_count": 89,
     "metadata": {},
     "output_type": "execute_result"
    }
   ],
   "source": [
    "# del use for delete\n",
    "del dicti['color']\n",
    "dicti"
   ]
  },
  {
   "cell_type": "code",
   "execution_count": null,
   "id": "4cef99a4",
   "metadata": {},
   "outputs": [],
   "source": []
  }
 ],
 "metadata": {
  "kernelspec": {
   "display_name": "Python 3 (ipykernel)",
   "language": "python",
   "name": "python3"
  },
  "language_info": {
   "codemirror_mode": {
    "name": "ipython",
    "version": 3
   },
   "file_extension": ".py",
   "mimetype": "text/x-python",
   "name": "python",
   "nbconvert_exporter": "python",
   "pygments_lexer": "ipython3",
   "version": "3.11.7"
  }
 },
 "nbformat": 4,
 "nbformat_minor": 5
}
