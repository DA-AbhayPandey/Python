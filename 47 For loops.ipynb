{
 "cells": [
  {
   "cell_type": "code",
   "execution_count": 10,
   "id": "ba8a9866",
   "metadata": {},
   "outputs": [],
   "source": [
    "Set_A = [1,2,3,4,5]\n",
    "Set_B = {'Name': 'Dunkin Ice Cream', 'Location': 'Delhi', 'Average Price': 75, 'Flavor': ['Apple','Mango','Stawberry','Blueberry','Vanilla']}"
   ]
  },
  {
   "cell_type": "code",
   "execution_count": 3,
   "id": "39775106",
   "metadata": {},
   "outputs": [
    {
     "name": "stdout",
     "output_type": "stream",
     "text": [
      "1\n",
      "2\n",
      "3\n",
      "4\n",
      "5\n"
     ]
    }
   ],
   "source": [
    "for result in Set_A:\n",
    "    print(result)"
   ]
  },
  {
   "cell_type": "code",
   "execution_count": 5,
   "id": "40164ebe",
   "metadata": {},
   "outputs": [
    {
     "name": "stdout",
     "output_type": "stream",
     "text": [
      "failed result\n",
      "failed result\n",
      "failed result\n",
      "failed result\n",
      "failed result\n"
     ]
    }
   ],
   "source": [
    "for result in Set_A:\n",
    "    print('failed result')"
   ]
  },
  {
   "cell_type": "code",
   "execution_count": 7,
   "id": "cee5208a",
   "metadata": {},
   "outputs": [
    {
     "name": "stdout",
     "output_type": "stream",
     "text": [
      "1\n",
      "4\n",
      "9\n",
      "16\n",
      "25\n"
     ]
    }
   ],
   "source": [
    "for result in Set_A:\n",
    "    print(result * result)"
   ]
  },
  {
   "cell_type": "code",
   "execution_count": 13,
   "id": "23466191",
   "metadata": {},
   "outputs": [
    {
     "name": "stdout",
     "output_type": "stream",
     "text": [
      "Dunkin Ice Cream\n",
      "Delhi\n",
      "75\n",
      "['Apple', 'Mango', 'Stawberry', 'Blueberry', 'Vanilla']\n"
     ]
    }
   ],
   "source": [
    "for Cream in Set_B.values():\n",
    "    print(Cream)\n"
   ]
  },
  {
   "cell_type": "code",
   "execution_count": 24,
   "id": "82b7681a",
   "metadata": {},
   "outputs": [
    {
     "name": "stdout",
     "output_type": "stream",
     "text": [
      "Name - Dunkin Ice Cream\n",
      "Location - Delhi\n",
      "Average Price - 75\n",
      "Flavor - ['Apple', 'Mango', 'Stawberry', 'Blueberry', 'Vanilla']\n"
     ]
    }
   ],
   "source": [
    "for Query, Result in Set_B.items():\n",
    "    print(Query, '-', Result)"
   ]
  },
  {
   "cell_type": "code",
   "execution_count": 25,
   "id": "6d99a92b",
   "metadata": {},
   "outputs": [],
   "source": [
    "#Nested For Loops\n",
    "Size=['Small','Medium','Large']\n",
    "Type=['Onion','Corn','Veg Blast','Non-Veg']\n",
    "Topping=['Double Type','Extra Chesse','Extra spicy']"
   ]
  },
  {
   "cell_type": "code",
   "execution_count": 28,
   "id": "a040af80",
   "metadata": {},
   "outputs": [
    {
     "name": "stdout",
     "output_type": "stream",
     "text": [
      "Small Onion pizza with Double Type\n",
      "Small Onion pizza with Extra Chesse\n",
      "Small Onion pizza with Extra spicy\n",
      "Small Corn pizza with Double Type\n",
      "Small Corn pizza with Extra Chesse\n",
      "Small Corn pizza with Extra spicy\n",
      "Small Veg Blast pizza with Double Type\n",
      "Small Veg Blast pizza with Extra Chesse\n",
      "Small Veg Blast pizza with Extra spicy\n",
      "Small Non-Veg pizza with Double Type\n",
      "Small Non-Veg pizza with Extra Chesse\n",
      "Small Non-Veg pizza with Extra spicy\n",
      "Medium Onion pizza with Double Type\n",
      "Medium Onion pizza with Extra Chesse\n",
      "Medium Onion pizza with Extra spicy\n",
      "Medium Corn pizza with Double Type\n",
      "Medium Corn pizza with Extra Chesse\n",
      "Medium Corn pizza with Extra spicy\n",
      "Medium Veg Blast pizza with Double Type\n",
      "Medium Veg Blast pizza with Extra Chesse\n",
      "Medium Veg Blast pizza with Extra spicy\n",
      "Medium Non-Veg pizza with Double Type\n",
      "Medium Non-Veg pizza with Extra Chesse\n",
      "Medium Non-Veg pizza with Extra spicy\n",
      "Large Onion pizza with Double Type\n",
      "Large Onion pizza with Extra Chesse\n",
      "Large Onion pizza with Extra spicy\n",
      "Large Corn pizza with Double Type\n",
      "Large Corn pizza with Extra Chesse\n",
      "Large Corn pizza with Extra spicy\n",
      "Large Veg Blast pizza with Double Type\n",
      "Large Veg Blast pizza with Extra Chesse\n",
      "Large Veg Blast pizza with Extra spicy\n",
      "Large Non-Veg pizza with Double Type\n",
      "Large Non-Veg pizza with Extra Chesse\n",
      "Large Non-Veg pizza with Extra spicy\n"
     ]
    }
   ],
   "source": [
    "for one in Size:\n",
    "    for of in Type:\n",
    "        for wth in Topping:\n",
    "            print(one, of, 'pizza with', wth)"
   ]
  },
  {
   "cell_type": "code",
   "execution_count": null,
   "id": "4f6c9252",
   "metadata": {},
   "outputs": [],
   "source": []
  }
 ],
 "metadata": {
  "kernelspec": {
   "display_name": "Python 3 (ipykernel)",
   "language": "python",
   "name": "python3"
  },
  "language_info": {
   "codemirror_mode": {
    "name": "ipython",
    "version": 3
   },
   "file_extension": ".py",
   "mimetype": "text/x-python",
   "name": "python",
   "nbconvert_exporter": "python",
   "pygments_lexer": "ipython3",
   "version": "3.11.7"
  }
 },
 "nbformat": 4,
 "nbformat_minor": 5
}
