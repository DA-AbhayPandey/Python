{
 "cells": [
  {
   "cell_type": "code",
   "execution_count": 1,
   "id": "96974c51",
   "metadata": {},
   "outputs": [],
   "source": [
    "def Function_1():\n",
    "    print('It works')\n"
   ]
  },
  {
   "cell_type": "code",
   "execution_count": 2,
   "id": "34126758",
   "metadata": {},
   "outputs": [
    {
     "name": "stdout",
     "output_type": "stream",
     "text": [
      "It works\n"
     ]
    }
   ],
   "source": [
    "Function_1()"
   ]
  },
  {
   "cell_type": "code",
   "execution_count": 3,
   "id": "c8caa83b",
   "metadata": {},
   "outputs": [],
   "source": [
    "def square(a):\n",
    "    print(a**2)"
   ]
  },
  {
   "cell_type": "code",
   "execution_count": 5,
   "id": "1fb50777",
   "metadata": {},
   "outputs": [
    {
     "name": "stdout",
     "output_type": "stream",
     "text": [
      "49\n"
     ]
    }
   ],
   "source": [
    "square(7)"
   ]
  },
  {
   "cell_type": "code",
   "execution_count": 6,
   "id": "8da2908d",
   "metadata": {},
   "outputs": [],
   "source": [
    "def square_P(a,p):\n",
    "    print(a**p)"
   ]
  },
  {
   "cell_type": "code",
   "execution_count": 11,
   "id": "5b40f39d",
   "metadata": {},
   "outputs": [
    {
     "name": "stdout",
     "output_type": "stream",
     "text": [
      "16\n"
     ]
    }
   ],
   "source": [
    "square_P(2,4)"
   ]
  },
  {
   "cell_type": "code",
   "execution_count": 26,
   "id": "72245bc4",
   "metadata": {},
   "outputs": [],
   "source": [
    "sat=(4,3,2,5,7,11)\n",
    "def arg(*a):\n",
    "    print(a[0]*a[2])"
   ]
  },
  {
   "cell_type": "code",
   "execution_count": 16,
   "id": "1cb9a3b4",
   "metadata": {},
   "outputs": [
    {
     "name": "stdout",
     "output_type": "stream",
     "text": [
      "6\n"
     ]
    }
   ],
   "source": [
    "arg(3,7,2,4,9)"
   ]
  },
  {
   "cell_type": "code",
   "execution_count": 27,
   "id": "f3aa02c4",
   "metadata": {},
   "outputs": [
    {
     "name": "stdout",
     "output_type": "stream",
     "text": [
      "8\n"
     ]
    }
   ],
   "source": [
    "arg(*sat)"
   ]
  },
  {
   "cell_type": "code",
   "execution_count": 28,
   "id": "2a4a4018",
   "metadata": {},
   "outputs": [],
   "source": [
    "def square_P(a,p):\n",
    "    print(a**p)"
   ]
  },
  {
   "cell_type": "code",
   "execution_count": 29,
   "id": "14b0de6a",
   "metadata": {},
   "outputs": [
    {
     "name": "stdout",
     "output_type": "stream",
     "text": [
      "81\n"
     ]
    }
   ],
   "source": [
    "square_P(p=4,a=3)"
   ]
  },
  {
   "cell_type": "code",
   "execution_count": 51,
   "id": "d5754f32",
   "metadata": {},
   "outputs": [],
   "source": [
    "def arg_1(**a):\n",
    "    print('My number is '+ a['n']+ ' Its square is'+ a['m'])"
   ]
  },
  {
   "cell_type": "code",
   "execution_count": 52,
   "id": "48b4fe9b",
   "metadata": {},
   "outputs": [
    {
     "name": "stdout",
     "output_type": "stream",
     "text": [
      "My number is 4 Its square is16\n"
     ]
    }
   ],
   "source": [
    "arg_1(n='4', m='16')"
   ]
  },
  {
   "cell_type": "code",
   "execution_count": null,
   "id": "d7eec4eb",
   "metadata": {},
   "outputs": [],
   "source": []
  }
 ],
 "metadata": {
  "kernelspec": {
   "display_name": "Python 3 (ipykernel)",
   "language": "python",
   "name": "python3"
  },
  "language_info": {
   "codemirror_mode": {
    "name": "ipython",
    "version": 3
   },
   "file_extension": ".py",
   "mimetype": "text/x-python",
   "name": "python",
   "nbconvert_exporter": "python",
   "pygments_lexer": "ipython3",
   "version": "3.11.7"
  }
 },
 "nbformat": 4,
 "nbformat_minor": 5
}
