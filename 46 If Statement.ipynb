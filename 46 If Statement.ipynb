{
 "cells": [
  {
   "cell_type": "code",
   "execution_count": 1,
   "id": "0cd8a6c8",
   "metadata": {},
   "outputs": [
    {
     "name": "stdout",
     "output_type": "stream",
     "text": [
      "Abhay is the Best\n"
     ]
    }
   ],
   "source": [
    "if 10 > 5:\n",
    "    print('Abhay is the Best')"
   ]
  },
  {
   "cell_type": "code",
   "execution_count": 6,
   "id": "2f9cf4d0",
   "metadata": {},
   "outputs": [
    {
     "name": "stdout",
     "output_type": "stream",
     "text": [
      "Abhay is Worst\n"
     ]
    }
   ],
   "source": [
    "if 10 < 5:\n",
    "    print('Abhay is the Best')\n",
    "else:\n",
    "     print('Abhay is Worst')"
   ]
  },
  {
   "cell_type": "code",
   "execution_count": 7,
   "id": "ebfab243",
   "metadata": {},
   "outputs": [
    {
     "name": "stdout",
     "output_type": "stream",
     "text": [
      "It is Fine\n"
     ]
    }
   ],
   "source": [
    "if (10 < 5) or (20 < 5):\n",
    "    print(\"It's worked\")\n",
    "    if (30>10):\n",
    "        print(\"2nd is also worked\")\n",
    "elif 35>25:\n",
    "    print('It is Fine')\n",
    "else:\n",
    "    print(\"nothing worked\")"
   ]
  },
  {
   "cell_type": "code",
   "execution_count": 10,
   "id": "dcb0a41a",
   "metadata": {},
   "outputs": [
    {
     "name": "stdout",
     "output_type": "stream",
     "text": [
      "It's worked\n",
      "2nd is also worked\n"
     ]
    }
   ],
   "source": [
    "if (10 > 5) or (20 > 5):\n",
    "    print(\"It's worked\")\n",
    "    if (30>10):\n",
    "        print(\"2nd is also worked\")\n",
    "elif 35>25:\n",
    "    print('It is Fine')\n",
    "else:\n",
    "    print(\"nothing worked\")"
   ]
  },
  {
   "cell_type": "code",
   "execution_count": 12,
   "id": "18dd49f9",
   "metadata": {},
   "outputs": [
    {
     "name": "stdout",
     "output_type": "stream",
     "text": [
      "elif 3rd worked\n"
     ]
    }
   ],
   "source": [
    "if (10 < 5):\n",
    "    print(\"It's worked\")\n",
    "    if (30<10):\n",
    "        print(\"2nd is also worked\")\n",
    "elif 35==25:\n",
    "    print('elif worked')\n",
    "elif 35<25:\n",
    "    print('elif 2nd worked')\n",
    "elif 35>25:\n",
    "    print('elif 3rd worked')\n",
    "elif 45>25:\n",
    "    print('elif 4th worked')\n",
    "else:\n",
    "    print(\"nothing worked\")"
   ]
  },
  {
   "cell_type": "code",
   "execution_count": 14,
   "id": "555978d5",
   "metadata": {},
   "outputs": [
    {
     "name": "stdout",
     "output_type": "stream",
     "text": [
      "It's worked\n",
      "2nd is also worked\n"
     ]
    }
   ],
   "source": [
    "if (10 > 5) or (20 > 5):\n",
    "    print(\"It's worked\")\n",
    "if (30>10):\n",
    "        print(\"2nd is also worked\")\n",
    "elif 35>25:\n",
    "    print('It is Fine')\n",
    "else:\n",
    "    print(\"nothing worked\")"
   ]
  },
  {
   "cell_type": "code",
   "execution_count": 20,
   "id": "2690bc4b",
   "metadata": {},
   "outputs": [
    {
     "name": "stdout",
     "output_type": "stream",
     "text": [
      "Abhay is worst\n"
     ]
    }
   ],
   "source": [
    "print('Abhay is the Best') if 10<5  else print('Abhay is worst')"
   ]
  },
  {
   "cell_type": "code",
   "execution_count": null,
   "id": "23a07e6d",
   "metadata": {},
   "outputs": [],
   "source": []
  }
 ],
 "metadata": {
  "kernelspec": {
   "display_name": "Python 3 (ipykernel)",
   "language": "python",
   "name": "python3"
  },
  "language_info": {
   "codemirror_mode": {
    "name": "ipython",
    "version": 3
   },
   "file_extension": ".py",
   "mimetype": "text/x-python",
   "name": "python",
   "nbconvert_exporter": "python",
   "pygments_lexer": "ipython3",
   "version": "3.11.7"
  }
 },
 "nbformat": 4,
 "nbformat_minor": 5
}
